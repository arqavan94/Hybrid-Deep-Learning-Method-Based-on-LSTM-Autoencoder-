{
  "nbformat": 4,
  "nbformat_minor": 0,
  "metadata": {
    "accelerator": "GPU",
    "colab": {
      "name": "paper_code.ipynb",
      "provenance": [],
      "collapsed_sections": []
    },
    "kernelspec": {
      "display_name": "Python 3",
      "name": "python3"
    },
    "language_info": {
      "name": "python"
    }
  },
  "cells": [
    {
      "cell_type": "code",
      "metadata": {
        "id": "zW0vEKC45_vf"
      },
      "source": [
        "import pandas as pd\n",
        "import numpy as np\n",
        "import matplotlib.pyplot as plt\n",
        "import sklearn.preprocessing\n",
        "from numpy import nan\n",
        "from numpy import isnan\n",
        "from pandas import read_csv\n",
        "from pandas import to_numeric\n",
        "from keras.models import Sequential\n",
        "from keras.layers import Dense\n",
        "from keras.layers import Flatten\n",
        "from keras.layers import LSTM\n",
        "from keras.layers import RepeatVector\n",
        "from tensorflow import keras\n",
        "import math\n",
        "import matplotlib\n",
        "from keras.layers import Dropout\n",
        "from sklearn.metrics import mean_absolute_error\n",
        "from keras.layers import Bidirectional\n",
        "from sklearn.metrics import mean_squared_error,r2_score,mean_absolute_error\n",
        "from sklearn.preprocessing import MinMaxScaler"
      ],
      "execution_count": null,
      "outputs": []
    },
    {
      "cell_type": "code",
      "metadata": {
        "id": "VjGYku4QArpR"
      },
      "source": [
        "!pip install folium==0.2.1\n",
        "!pip install pdflatex\n",
        "!sudo apt-get install texlive-latex-recommended \n",
        "!sudo apt install texlive-latex-extra\n",
        "!sudo apt install dvipng"
      ],
      "execution_count": null,
      "outputs": []
    },
    {
      "cell_type": "code",
      "metadata": {
        "colab": {
          "base_uri": "https://localhost:8080/"
        },
        "id": "4DiHL9_qvzYI",
        "outputId": "9f80388e-34f7-4d57-a758-f9cde36c7f06"
      },
      "source": [
        "from google.colab import drive\n",
        "drive.mount('/content/drive')"
      ],
      "execution_count": null,
      "outputs": [
        {
          "output_type": "stream",
          "name": "stdout",
          "text": [
            "Drive already mounted at /content/drive; to attempt to forcibly remount, call drive.mount(\"/content/drive\", force_remount=True).\n"
          ]
        }
      ]
    },
    {
      "cell_type": "markdown",
      "metadata": {
        "id": "yW3AF9TI6hNC"
      },
      "source": [
        "**Load Data**"
      ]
    },
    {
      "cell_type": "code",
      "metadata": {
        "colab": {
          "base_uri": "https://localhost:8080/",
          "height": 810
        },
        "id": "3HDaZ4mb6jhw",
        "outputId": "5f43655e-7399-4e80-ffa8-eb5ca9647c0b"
      },
      "source": [
        "df = read_csv('drive/MyDrive/House_Hold_dataset/household_power_consumption.txt', sep=';', header=0, low_memory=False, infer_datetime_format=True, parse_dates={'datetime':[0,1]}, index_col=['datetime'])\n",
        "df.replace('?', nan, inplace=True)\n",
        "df = df.astype('float32')\n",
        "df"
      ],
      "execution_count": null,
      "outputs": [
        {
          "output_type": "execute_result",
          "data": {
            "text/html": [
              "<div>\n",
              "<style scoped>\n",
              "    .dataframe tbody tr th:only-of-type {\n",
              "        vertical-align: middle;\n",
              "    }\n",
              "\n",
              "    .dataframe tbody tr th {\n",
              "        vertical-align: top;\n",
              "    }\n",
              "\n",
              "    .dataframe thead th {\n",
              "        text-align: right;\n",
              "    }\n",
              "</style>\n",
              "<table border=\"1\" class=\"dataframe\">\n",
              "  <thead>\n",
              "    <tr style=\"text-align: right;\">\n",
              "      <th></th>\n",
              "      <th>Global_active_power</th>\n",
              "      <th>Global_reactive_power</th>\n",
              "      <th>Voltage</th>\n",
              "      <th>Global_intensity</th>\n",
              "      <th>Sub_metering_1</th>\n",
              "      <th>Sub_metering_2</th>\n",
              "      <th>Sub_metering_3</th>\n",
              "    </tr>\n",
              "    <tr>\n",
              "      <th>datetime</th>\n",
              "      <th></th>\n",
              "      <th></th>\n",
              "      <th></th>\n",
              "      <th></th>\n",
              "      <th></th>\n",
              "      <th></th>\n",
              "      <th></th>\n",
              "    </tr>\n",
              "  </thead>\n",
              "  <tbody>\n",
              "    <tr>\n",
              "      <th>2006-12-16 17:24:00</th>\n",
              "      <td>4.216</td>\n",
              "      <td>0.418</td>\n",
              "      <td>234.839996</td>\n",
              "      <td>18.4</td>\n",
              "      <td>0.0</td>\n",
              "      <td>1.0</td>\n",
              "      <td>17.0</td>\n",
              "    </tr>\n",
              "    <tr>\n",
              "      <th>2006-12-16 17:25:00</th>\n",
              "      <td>5.360</td>\n",
              "      <td>0.436</td>\n",
              "      <td>233.630005</td>\n",
              "      <td>23.0</td>\n",
              "      <td>0.0</td>\n",
              "      <td>1.0</td>\n",
              "      <td>16.0</td>\n",
              "    </tr>\n",
              "    <tr>\n",
              "      <th>2006-12-16 17:26:00</th>\n",
              "      <td>5.374</td>\n",
              "      <td>0.498</td>\n",
              "      <td>233.289993</td>\n",
              "      <td>23.0</td>\n",
              "      <td>0.0</td>\n",
              "      <td>2.0</td>\n",
              "      <td>17.0</td>\n",
              "    </tr>\n",
              "    <tr>\n",
              "      <th>2006-12-16 17:27:00</th>\n",
              "      <td>5.388</td>\n",
              "      <td>0.502</td>\n",
              "      <td>233.740005</td>\n",
              "      <td>23.0</td>\n",
              "      <td>0.0</td>\n",
              "      <td>1.0</td>\n",
              "      <td>17.0</td>\n",
              "    </tr>\n",
              "    <tr>\n",
              "      <th>2006-12-16 17:28:00</th>\n",
              "      <td>3.666</td>\n",
              "      <td>0.528</td>\n",
              "      <td>235.679993</td>\n",
              "      <td>15.8</td>\n",
              "      <td>0.0</td>\n",
              "      <td>1.0</td>\n",
              "      <td>17.0</td>\n",
              "    </tr>\n",
              "    <tr>\n",
              "      <th>...</th>\n",
              "      <td>...</td>\n",
              "      <td>...</td>\n",
              "      <td>...</td>\n",
              "      <td>...</td>\n",
              "      <td>...</td>\n",
              "      <td>...</td>\n",
              "      <td>...</td>\n",
              "    </tr>\n",
              "    <tr>\n",
              "      <th>2010-11-26 20:58:00</th>\n",
              "      <td>0.946</td>\n",
              "      <td>0.000</td>\n",
              "      <td>240.429993</td>\n",
              "      <td>4.0</td>\n",
              "      <td>0.0</td>\n",
              "      <td>0.0</td>\n",
              "      <td>0.0</td>\n",
              "    </tr>\n",
              "    <tr>\n",
              "      <th>2010-11-26 20:59:00</th>\n",
              "      <td>0.944</td>\n",
              "      <td>0.000</td>\n",
              "      <td>240.000000</td>\n",
              "      <td>4.0</td>\n",
              "      <td>0.0</td>\n",
              "      <td>0.0</td>\n",
              "      <td>0.0</td>\n",
              "    </tr>\n",
              "    <tr>\n",
              "      <th>2010-11-26 21:00:00</th>\n",
              "      <td>0.938</td>\n",
              "      <td>0.000</td>\n",
              "      <td>239.820007</td>\n",
              "      <td>3.8</td>\n",
              "      <td>0.0</td>\n",
              "      <td>0.0</td>\n",
              "      <td>0.0</td>\n",
              "    </tr>\n",
              "    <tr>\n",
              "      <th>2010-11-26 21:01:00</th>\n",
              "      <td>0.934</td>\n",
              "      <td>0.000</td>\n",
              "      <td>239.699997</td>\n",
              "      <td>3.8</td>\n",
              "      <td>0.0</td>\n",
              "      <td>0.0</td>\n",
              "      <td>0.0</td>\n",
              "    </tr>\n",
              "    <tr>\n",
              "      <th>2010-11-26 21:02:00</th>\n",
              "      <td>0.932</td>\n",
              "      <td>0.000</td>\n",
              "      <td>239.550003</td>\n",
              "      <td>3.8</td>\n",
              "      <td>0.0</td>\n",
              "      <td>0.0</td>\n",
              "      <td>0.0</td>\n",
              "    </tr>\n",
              "  </tbody>\n",
              "</table>\n",
              "<p>2075259 rows × 7 columns</p>\n",
              "</div>"
            ],
            "text/plain": [
              "                     Global_active_power  ...  Sub_metering_3\n",
              "datetime                                  ...                \n",
              "2006-12-16 17:24:00                4.216  ...            17.0\n",
              "2006-12-16 17:25:00                5.360  ...            16.0\n",
              "2006-12-16 17:26:00                5.374  ...            17.0\n",
              "2006-12-16 17:27:00                5.388  ...            17.0\n",
              "2006-12-16 17:28:00                3.666  ...            17.0\n",
              "...                                  ...  ...             ...\n",
              "2010-11-26 20:58:00                0.946  ...             0.0\n",
              "2010-11-26 20:59:00                0.944  ...             0.0\n",
              "2010-11-26 21:00:00                0.938  ...             0.0\n",
              "2010-11-26 21:01:00                0.934  ...             0.0\n",
              "2010-11-26 21:02:00                0.932  ...             0.0\n",
              "\n",
              "[2075259 rows x 7 columns]"
            ]
          },
          "metadata": {},
          "execution_count": 4
        }
      ]
    },
    {
      "cell_type": "markdown",
      "metadata": {
        "id": "4lavu5B265DX"
      },
      "source": [
        "**filling missing data**"
      ]
    },
    {
      "cell_type": "code",
      "metadata": {
        "id": "LNubB7w068UH"
      },
      "source": [
        "def fill_missing(values):\n",
        "  one_day=60*24\n",
        "  for row in range(values.shape[0]):\n",
        "    for col in range(values.shape[1]):\n",
        "      if isnan(values[row,col]):\n",
        "        values[row,col]= values[row- one_day,col]"
      ],
      "execution_count": null,
      "outputs": []
    },
    {
      "cell_type": "code",
      "metadata": {
        "colab": {
          "base_uri": "https://localhost:8080/",
          "height": 100
        },
        "id": "A1dLMYnExwhR",
        "outputId": "d10b64d4-6ae9-4859-f7dd-882c063f155d"
      },
      "source": [
        "fill_missing(df.values)\n",
        "df[df['Global_active_power'].isnull()]        "
      ],
      "execution_count": null,
      "outputs": [
        {
          "output_type": "execute_result",
          "data": {
            "text/html": [
              "<div>\n",
              "<style scoped>\n",
              "    .dataframe tbody tr th:only-of-type {\n",
              "        vertical-align: middle;\n",
              "    }\n",
              "\n",
              "    .dataframe tbody tr th {\n",
              "        vertical-align: top;\n",
              "    }\n",
              "\n",
              "    .dataframe thead th {\n",
              "        text-align: right;\n",
              "    }\n",
              "</style>\n",
              "<table border=\"1\" class=\"dataframe\">\n",
              "  <thead>\n",
              "    <tr style=\"text-align: right;\">\n",
              "      <th></th>\n",
              "      <th>Global_active_power</th>\n",
              "      <th>Global_reactive_power</th>\n",
              "      <th>Voltage</th>\n",
              "      <th>Global_intensity</th>\n",
              "      <th>Sub_metering_1</th>\n",
              "      <th>Sub_metering_2</th>\n",
              "      <th>Sub_metering_3</th>\n",
              "    </tr>\n",
              "    <tr>\n",
              "      <th>datetime</th>\n",
              "      <th></th>\n",
              "      <th></th>\n",
              "      <th></th>\n",
              "      <th></th>\n",
              "      <th></th>\n",
              "      <th></th>\n",
              "      <th></th>\n",
              "    </tr>\n",
              "  </thead>\n",
              "  <tbody>\n",
              "  </tbody>\n",
              "</table>\n",
              "</div>"
            ],
            "text/plain": [
              "Empty DataFrame\n",
              "Columns: [Global_active_power, Global_reactive_power, Voltage, Global_intensity, Sub_metering_1, Sub_metering_2, Sub_metering_3]\n",
              "Index: []"
            ]
          },
          "metadata": {},
          "execution_count": 6
        }
      ]
    },
    {
      "cell_type": "code",
      "metadata": {
        "colab": {
          "base_uri": "https://localhost:8080/",
          "height": 300
        },
        "id": "jlAwzMjTNyFh",
        "outputId": "3a3f3def-a84f-4ee5-8636-db65480a455c"
      },
      "source": [
        "df.describe()"
      ],
      "execution_count": null,
      "outputs": [
        {
          "data": {
            "text/html": [
              "<div>\n",
              "<style scoped>\n",
              "    .dataframe tbody tr th:only-of-type {\n",
              "        vertical-align: middle;\n",
              "    }\n",
              "\n",
              "    .dataframe tbody tr th {\n",
              "        vertical-align: top;\n",
              "    }\n",
              "\n",
              "    .dataframe thead th {\n",
              "        text-align: right;\n",
              "    }\n",
              "</style>\n",
              "<table border=\"1\" class=\"dataframe\">\n",
              "  <thead>\n",
              "    <tr style=\"text-align: right;\">\n",
              "      <th></th>\n",
              "      <th>Global_active_power</th>\n",
              "      <th>Global_reactive_power</th>\n",
              "      <th>Voltage</th>\n",
              "      <th>Global_intensity</th>\n",
              "      <th>Sub_metering_1</th>\n",
              "      <th>Sub_metering_2</th>\n",
              "      <th>Sub_metering_3</th>\n",
              "    </tr>\n",
              "  </thead>\n",
              "  <tbody>\n",
              "    <tr>\n",
              "      <th>count</th>\n",
              "      <td>2.075259e+06</td>\n",
              "      <td>2.075259e+06</td>\n",
              "      <td>2.075259e+06</td>\n",
              "      <td>2.075259e+06</td>\n",
              "      <td>2.075259e+06</td>\n",
              "      <td>2.075259e+06</td>\n",
              "      <td>2.075259e+06</td>\n",
              "    </tr>\n",
              "    <tr>\n",
              "      <th>mean</th>\n",
              "      <td>1.089561e+00</td>\n",
              "      <td>1.236733e-01</td>\n",
              "      <td>2.434321e+02</td>\n",
              "      <td>4.619704e+00</td>\n",
              "      <td>1.118474e+00</td>\n",
              "      <td>1.291131e+00</td>\n",
              "      <td>6.448635e+00</td>\n",
              "    </tr>\n",
              "    <tr>\n",
              "      <th>std</th>\n",
              "      <td>1.054365e+00</td>\n",
              "      <td>1.127151e-01</td>\n",
              "      <td>4.147553e+00</td>\n",
              "      <td>4.430348e+00</td>\n",
              "      <td>6.092595e+00</td>\n",
              "      <td>5.734393e+00</td>\n",
              "      <td>8.457127e+00</td>\n",
              "    </tr>\n",
              "    <tr>\n",
              "      <th>min</th>\n",
              "      <td>7.600000e-02</td>\n",
              "      <td>0.000000e+00</td>\n",
              "      <td>2.232000e+02</td>\n",
              "      <td>2.000000e-01</td>\n",
              "      <td>0.000000e+00</td>\n",
              "      <td>0.000000e+00</td>\n",
              "      <td>0.000000e+00</td>\n",
              "    </tr>\n",
              "    <tr>\n",
              "      <th>25%</th>\n",
              "      <td>3.080000e-01</td>\n",
              "      <td>4.800000e-02</td>\n",
              "      <td>2.389900e+02</td>\n",
              "      <td>1.400000e+00</td>\n",
              "      <td>0.000000e+00</td>\n",
              "      <td>0.000000e+00</td>\n",
              "      <td>0.000000e+00</td>\n",
              "    </tr>\n",
              "    <tr>\n",
              "      <th>50%</th>\n",
              "      <td>6.020000e-01</td>\n",
              "      <td>1.000000e-01</td>\n",
              "      <td>2.410000e+02</td>\n",
              "      <td>2.600000e+00</td>\n",
              "      <td>0.000000e+00</td>\n",
              "      <td>0.000000e+00</td>\n",
              "      <td>1.000000e+00</td>\n",
              "    </tr>\n",
              "    <tr>\n",
              "      <th>75%</th>\n",
              "      <td>1.526000e+00</td>\n",
              "      <td>1.940000e-01</td>\n",
              "      <td>2.428700e+02</td>\n",
              "      <td>6.400000e+00</td>\n",
              "      <td>0.000000e+00</td>\n",
              "      <td>1.000000e+00</td>\n",
              "      <td>1.700000e+01</td>\n",
              "    </tr>\n",
              "    <tr>\n",
              "      <th>max</th>\n",
              "      <td>1.112200e+01</td>\n",
              "      <td>1.390000e+00</td>\n",
              "      <td>2.541500e+02</td>\n",
              "      <td>4.840000e+01</td>\n",
              "      <td>8.800000e+01</td>\n",
              "      <td>8.000000e+01</td>\n",
              "      <td>3.100000e+01</td>\n",
              "    </tr>\n",
              "  </tbody>\n",
              "</table>\n",
              "</div>"
            ],
            "text/plain": [
              "       Global_active_power  ...  Sub_metering_3\n",
              "count         2.075259e+06  ...    2.075259e+06\n",
              "mean          1.089561e+00  ...    6.448635e+00\n",
              "std           1.054365e+00  ...    8.457127e+00\n",
              "min           7.600000e-02  ...    0.000000e+00\n",
              "25%           3.080000e-01  ...    0.000000e+00\n",
              "50%           6.020000e-01  ...    1.000000e+00\n",
              "75%           1.526000e+00  ...    1.700000e+01\n",
              "max           1.112200e+01  ...    3.100000e+01\n",
              "\n",
              "[8 rows x 7 columns]"
            ]
          },
          "execution_count": 7,
          "metadata": {},
          "output_type": "execute_result"
        }
      ]
    },
    {
      "cell_type": "markdown",
      "metadata": {
        "id": "NZb3niMV7MSX"
      },
      "source": [
        "**Daily data**"
      ]
    },
    {
      "cell_type": "code",
      "metadata": {
        "colab": {
          "base_uri": "https://localhost:8080/",
          "height": 640
        },
        "id": "HqLvIANA7OtJ",
        "outputId": "8a110a5a-680f-4619-f44a-2fea7b041334"
      },
      "source": [
        "daily_groups = df.resample('D')\n",
        "daily_data = daily_groups.sum()\n",
        "daily_data"
      ],
      "execution_count": null,
      "outputs": [
        {
          "output_type": "execute_result",
          "data": {
            "text/html": [
              "<div>\n",
              "<style scoped>\n",
              "    .dataframe tbody tr th:only-of-type {\n",
              "        vertical-align: middle;\n",
              "    }\n",
              "\n",
              "    .dataframe tbody tr th {\n",
              "        vertical-align: top;\n",
              "    }\n",
              "\n",
              "    .dataframe thead th {\n",
              "        text-align: right;\n",
              "    }\n",
              "</style>\n",
              "<table border=\"1\" class=\"dataframe\">\n",
              "  <thead>\n",
              "    <tr style=\"text-align: right;\">\n",
              "      <th></th>\n",
              "      <th>Global_active_power</th>\n",
              "      <th>Global_reactive_power</th>\n",
              "      <th>Voltage</th>\n",
              "      <th>Global_intensity</th>\n",
              "      <th>Sub_metering_1</th>\n",
              "      <th>Sub_metering_2</th>\n",
              "      <th>Sub_metering_3</th>\n",
              "    </tr>\n",
              "    <tr>\n",
              "      <th>datetime</th>\n",
              "      <th></th>\n",
              "      <th></th>\n",
              "      <th></th>\n",
              "      <th></th>\n",
              "      <th></th>\n",
              "      <th></th>\n",
              "      <th></th>\n",
              "    </tr>\n",
              "  </thead>\n",
              "  <tbody>\n",
              "    <tr>\n",
              "      <th>2006-12-16</th>\n",
              "      <td>1209.176025</td>\n",
              "      <td>34.922001</td>\n",
              "      <td>93552.53125</td>\n",
              "      <td>5180.799805</td>\n",
              "      <td>0.0</td>\n",
              "      <td>546.0</td>\n",
              "      <td>4926.0</td>\n",
              "    </tr>\n",
              "    <tr>\n",
              "      <th>2006-12-17</th>\n",
              "      <td>3390.459961</td>\n",
              "      <td>226.005997</td>\n",
              "      <td>345725.31250</td>\n",
              "      <td>14398.599609</td>\n",
              "      <td>2033.0</td>\n",
              "      <td>4187.0</td>\n",
              "      <td>13341.0</td>\n",
              "    </tr>\n",
              "    <tr>\n",
              "      <th>2006-12-18</th>\n",
              "      <td>2203.825928</td>\n",
              "      <td>161.792007</td>\n",
              "      <td>347373.62500</td>\n",
              "      <td>9247.200195</td>\n",
              "      <td>1063.0</td>\n",
              "      <td>2621.0</td>\n",
              "      <td>14018.0</td>\n",
              "    </tr>\n",
              "    <tr>\n",
              "      <th>2006-12-19</th>\n",
              "      <td>1666.193970</td>\n",
              "      <td>150.942001</td>\n",
              "      <td>348479.00000</td>\n",
              "      <td>7094.000000</td>\n",
              "      <td>839.0</td>\n",
              "      <td>7602.0</td>\n",
              "      <td>6197.0</td>\n",
              "    </tr>\n",
              "    <tr>\n",
              "      <th>2006-12-20</th>\n",
              "      <td>2225.748047</td>\n",
              "      <td>160.998001</td>\n",
              "      <td>348923.62500</td>\n",
              "      <td>9313.000000</td>\n",
              "      <td>0.0</td>\n",
              "      <td>2648.0</td>\n",
              "      <td>14063.0</td>\n",
              "    </tr>\n",
              "    <tr>\n",
              "      <th>...</th>\n",
              "      <td>...</td>\n",
              "      <td>...</td>\n",
              "      <td>...</td>\n",
              "      <td>...</td>\n",
              "      <td>...</td>\n",
              "      <td>...</td>\n",
              "      <td>...</td>\n",
              "    </tr>\n",
              "    <tr>\n",
              "      <th>2010-11-22</th>\n",
              "      <td>2041.536011</td>\n",
              "      <td>142.354004</td>\n",
              "      <td>345883.84375</td>\n",
              "      <td>8660.400391</td>\n",
              "      <td>4855.0</td>\n",
              "      <td>2110.0</td>\n",
              "      <td>10136.0</td>\n",
              "    </tr>\n",
              "    <tr>\n",
              "      <th>2010-11-23</th>\n",
              "      <td>1577.536011</td>\n",
              "      <td>137.449997</td>\n",
              "      <td>346428.75000</td>\n",
              "      <td>6731.200195</td>\n",
              "      <td>1871.0</td>\n",
              "      <td>458.0</td>\n",
              "      <td>7611.0</td>\n",
              "    </tr>\n",
              "    <tr>\n",
              "      <th>2010-11-24</th>\n",
              "      <td>1796.248047</td>\n",
              "      <td>132.460007</td>\n",
              "      <td>345644.59375</td>\n",
              "      <td>7559.399902</td>\n",
              "      <td>1096.0</td>\n",
              "      <td>2848.0</td>\n",
              "      <td>12224.0</td>\n",
              "    </tr>\n",
              "    <tr>\n",
              "      <th>2010-11-25</th>\n",
              "      <td>1431.163940</td>\n",
              "      <td>116.127998</td>\n",
              "      <td>347812.21875</td>\n",
              "      <td>6004.000000</td>\n",
              "      <td>1076.0</td>\n",
              "      <td>426.0</td>\n",
              "      <td>5072.0</td>\n",
              "    </tr>\n",
              "    <tr>\n",
              "      <th>2010-11-26</th>\n",
              "      <td>1488.104004</td>\n",
              "      <td>120.826004</td>\n",
              "      <td>303487.56250</td>\n",
              "      <td>6259.799805</td>\n",
              "      <td>1080.0</td>\n",
              "      <td>385.0</td>\n",
              "      <td>9989.0</td>\n",
              "    </tr>\n",
              "  </tbody>\n",
              "</table>\n",
              "<p>1442 rows × 7 columns</p>\n",
              "</div>"
            ],
            "text/plain": [
              "            Global_active_power  ...  Sub_metering_3\n",
              "datetime                         ...                \n",
              "2006-12-16          1209.176025  ...          4926.0\n",
              "2006-12-17          3390.459961  ...         13341.0\n",
              "2006-12-18          2203.825928  ...         14018.0\n",
              "2006-12-19          1666.193970  ...          6197.0\n",
              "2006-12-20          2225.748047  ...         14063.0\n",
              "...                         ...  ...             ...\n",
              "2010-11-22          2041.536011  ...         10136.0\n",
              "2010-11-23          1577.536011  ...          7611.0\n",
              "2010-11-24          1796.248047  ...         12224.0\n",
              "2010-11-25          1431.163940  ...          5072.0\n",
              "2010-11-26          1488.104004  ...          9989.0\n",
              "\n",
              "[1442 rows x 7 columns]"
            ]
          },
          "metadata": {},
          "execution_count": 7
        }
      ]
    },
    {
      "cell_type": "code",
      "metadata": {
        "colab": {
          "base_uri": "https://localhost:8080/",
          "height": 300
        },
        "id": "oBHt2CV-OIkX",
        "outputId": "f522999a-4ea7-4262-914e-2f52ac7d5ffd"
      },
      "source": [
        "daily_data.describe()"
      ],
      "execution_count": null,
      "outputs": [
        {
          "data": {
            "text/html": [
              "<div>\n",
              "<style scoped>\n",
              "    .dataframe tbody tr th:only-of-type {\n",
              "        vertical-align: middle;\n",
              "    }\n",
              "\n",
              "    .dataframe tbody tr th {\n",
              "        vertical-align: top;\n",
              "    }\n",
              "\n",
              "    .dataframe thead th {\n",
              "        text-align: right;\n",
              "    }\n",
              "</style>\n",
              "<table border=\"1\" class=\"dataframe\">\n",
              "  <thead>\n",
              "    <tr style=\"text-align: right;\">\n",
              "      <th></th>\n",
              "      <th>Global_active_power</th>\n",
              "      <th>Global_reactive_power</th>\n",
              "      <th>Voltage</th>\n",
              "      <th>Global_intensity</th>\n",
              "      <th>Sub_metering_1</th>\n",
              "      <th>Sub_metering_2</th>\n",
              "      <th>Sub_metering_3</th>\n",
              "    </tr>\n",
              "  </thead>\n",
              "  <tbody>\n",
              "    <tr>\n",
              "      <th>count</th>\n",
              "      <td>1442.000000</td>\n",
              "      <td>1442.000000</td>\n",
              "      <td>1442.000000</td>\n",
              "      <td>1442.000000</td>\n",
              "      <td>1442.000000</td>\n",
              "      <td>1442.000000</td>\n",
              "      <td>1442.000000</td>\n",
              "    </tr>\n",
              "    <tr>\n",
              "      <th>mean</th>\n",
              "      <td>1567.839478</td>\n",
              "      <td>178.004837</td>\n",
              "      <td>346600.312500</td>\n",
              "      <td>6646.583008</td>\n",
              "      <td>1609.656006</td>\n",
              "      <td>1858.135254</td>\n",
              "      <td>9280.574219</td>\n",
              "    </tr>\n",
              "    <tr>\n",
              "      <th>std</th>\n",
              "      <td>597.306824</td>\n",
              "      <td>48.881680</td>\n",
              "      <td>7375.843750</td>\n",
              "      <td>2472.110107</td>\n",
              "      <td>1581.724731</td>\n",
              "      <td>2085.161377</td>\n",
              "      <td>3674.915527</td>\n",
              "    </tr>\n",
              "    <tr>\n",
              "      <th>min</th>\n",
              "      <td>250.298004</td>\n",
              "      <td>34.922001</td>\n",
              "      <td>93552.531250</td>\n",
              "      <td>1164.000000</td>\n",
              "      <td>0.000000</td>\n",
              "      <td>0.000000</td>\n",
              "      <td>1288.000000</td>\n",
              "    </tr>\n",
              "    <tr>\n",
              "      <th>25%</th>\n",
              "      <td>1176.195007</td>\n",
              "      <td>143.063004</td>\n",
              "      <td>345736.796875</td>\n",
              "      <td>5055.399902</td>\n",
              "      <td>700.000000</td>\n",
              "      <td>432.500000</td>\n",
              "      <td>6681.000000</td>\n",
              "    </tr>\n",
              "    <tr>\n",
              "      <th>50%</th>\n",
              "      <td>1543.252991</td>\n",
              "      <td>171.198997</td>\n",
              "      <td>346979.437500</td>\n",
              "      <td>6539.300049</td>\n",
              "      <td>1119.000000</td>\n",
              "      <td>696.000000</td>\n",
              "      <td>9272.000000</td>\n",
              "    </tr>\n",
              "    <tr>\n",
              "      <th>75%</th>\n",
              "      <td>1894.467529</td>\n",
              "      <td>202.548500</td>\n",
              "      <td>348283.375000</td>\n",
              "      <td>7965.599976</td>\n",
              "      <td>2201.750000</td>\n",
              "      <td>2732.000000</td>\n",
              "      <td>11764.000000</td>\n",
              "    </tr>\n",
              "    <tr>\n",
              "      <th>max</th>\n",
              "      <td>4773.386230</td>\n",
              "      <td>417.834015</td>\n",
              "      <td>356306.406250</td>\n",
              "      <td>20200.400391</td>\n",
              "      <td>11178.000000</td>\n",
              "      <td>12109.000000</td>\n",
              "      <td>23743.000000</td>\n",
              "    </tr>\n",
              "  </tbody>\n",
              "</table>\n",
              "</div>"
            ],
            "text/plain": [
              "       Global_active_power  ...  Sub_metering_3\n",
              "count          1442.000000  ...     1442.000000\n",
              "mean           1567.839478  ...     9280.574219\n",
              "std             597.306824  ...     3674.915527\n",
              "min             250.298004  ...     1288.000000\n",
              "25%            1176.195007  ...     6681.000000\n",
              "50%            1543.252991  ...     9272.000000\n",
              "75%            1894.467529  ...    11764.000000\n",
              "max            4773.386230  ...    23743.000000\n",
              "\n",
              "[8 rows x 7 columns]"
            ]
          },
          "execution_count": 8,
          "metadata": {},
          "output_type": "execute_result"
        }
      ]
    },
    {
      "cell_type": "code",
      "metadata": {
        "id": "3ewX19ucIJJS"
      },
      "source": [
        "plt.style.use('tableau-colorblind10')\n",
        "matplotlib.use(\"pgf\")\n",
        "matplotlib.rcParams.update({\n",
        "    \"pgf.texsystem\": \"pdflatex\",\n",
        "    'font.family': 'serif',\n",
        "    'text.usetex': True,\n",
        "    'pgf.rcfonts': False,\n",
        "    'axes.labelsize': 8,\n",
        "    'axes.titlesize': 8,\n",
        "    'font.size':       8,\n",
        "    'legend.fontsize': 8,\n",
        "    'xtick.labelsize': 6,\n",
        "    'ytick.labelsize': 6,\n",
        "})"
      ],
      "execution_count": null,
      "outputs": []
    },
    {
      "cell_type": "code",
      "metadata": {
        "id": "qbcI3tfr7VZG",
        "colab": {
          "base_uri": "https://localhost:8080/",
          "height": 247
        },
        "outputId": "25532b34-c444-4398-92ff-5a493ff367b1"
      },
      "source": [
        "plt.figure(figsize=(3.48761,3))\n",
        "# plt.title(\"daily power consumption\")\n",
        "plt.plot(daily_data['Global_active_power'],linewidth=0.8)\n",
        "plt.xlabel('Date')\n",
        "plt.ylabel('Global Active Power')\n",
        "plt.xticks(rotation=45)\n",
        "plt.tight_layout()\n",
        "plt.savefig('fig1.pgf')\n",
        "plt.show"
      ],
      "execution_count": null,
      "outputs": [
        {
          "output_type": "execute_result",
          "data": {
            "text/plain": [
              "<function matplotlib.pyplot.show>"
            ]
          },
          "metadata": {},
          "execution_count": 51
        },
        {
          "output_type": "display_data",
          "data": {
            "image/png": "[encoded data removed]",
            "text/plain": [
              "<Figure size 251.108x216 with 1 Axes>"
            ]
          },
          "metadata": {
            "needs_background": "light"
          }
        }
      ]
    },
    {
      "cell_type": "markdown",
      "metadata": {
        "id": "bJEWzFKS757p"
      },
      "source": [
        "**Split data to test and train**"
      ]
    },
    {
      "cell_type": "code",
      "metadata": {
        "colab": {
          "base_uri": "https://localhost:8080/"
        },
        "id": "U7SIWXch79vO",
        "outputId": "6bc92879-307c-4c46-e4e7-51ab08656c42"
      },
      "source": [
        "train_size = int(len(daily_data) * 0.80)\n",
        "test_size = len(daily_data) - train_size\n",
        "train, test = daily_data.iloc[0:train_size], daily_data.iloc[train_size:len(daily_data)]\n",
        "print(len(train), len(test))"
      ],
      "execution_count": null,
      "outputs": [
        {
          "output_type": "stream",
          "name": "stdout",
          "text": [
            "1153 289\n"
          ]
        }
      ]
    },
    {
      "cell_type": "code",
      "metadata": {
        "id": "uYVu4Inc8J88"
      },
      "source": [
        "from sklearn.preprocessing import MinMaxScaler\n",
        "f_columns = ['Global_reactive_power',\t'Voltage',\t'Global_intensity',\t'Sub_metering_1',\t'Sub_metering_2',\t'Sub_metering_3']\n",
        "f_transformer = MinMaxScaler()\n",
        "f_transformer = f_transformer.fit(train[f_columns].to_numpy())\n",
        "train.loc[:, f_columns] = f_transformer.transform(train[f_columns].to_numpy())\n",
        "test.loc[:, f_columns] = f_transformer.transform(test[f_columns].to_numpy())"
      ],
      "execution_count": null,
      "outputs": []
    },
    {
      "cell_type": "code",
      "metadata": {
        "id": "Rz1OfP-J8MEc"
      },
      "source": [
        "cnt_transformer = MinMaxScaler()\n",
        "cnt_transformer = cnt_transformer.fit(train[['Global_active_power']])\n",
        "train['Global_active_power'] = cnt_transformer.transform(train[['Global_active_power']])\n",
        "test['Global_active_power'] = cnt_transformer.transform(test[['Global_active_power']])"
      ],
      "execution_count": null,
      "outputs": []
    },
    {
      "cell_type": "markdown",
      "metadata": {
        "id": "_CB_wsxChRWM"
      },
      "source": [
        "**Create Dataset**"
      ]
    },
    {
      "cell_type": "code",
      "metadata": {
        "id": "usstlDbphVTE"
      },
      "source": [
        "def create_dataset(X, y, time_steps=1):\n",
        "    Xs, ys = [], []\n",
        "    for i in range(len(X) - time_steps):\n",
        "        v = X.iloc[i:(i + time_steps),1:].values\n",
        "        Xs.append(v)\n",
        "        ys.append(y.iloc[i + time_steps:i + time_steps+1])\n",
        "    return np.array(Xs), np.array(ys)"
      ],
      "execution_count": null,
      "outputs": []
    },
    {
      "cell_type": "code",
      "metadata": {
        "colab": {
          "base_uri": "https://localhost:8080/"
        },
        "id": "PXz9StBZhZy0",
        "outputId": "e3bb4781-c031-4bd6-cebf-44ddf1201eaa"
      },
      "source": [
        "time_steps = 7\n",
        "# reshape to [samples, time_steps, n_features]\n",
        "X_train, y_train = create_dataset(train, train.Global_active_power, time_steps)\n",
        "X_test, y_test = create_dataset(test, test.Global_active_power, time_steps)\n",
        "print(X_train.shape, y_train.shape)\n",
        "print(X_test.shape, y_test.shape)"
      ],
      "execution_count": null,
      "outputs": [
        {
          "output_type": "stream",
          "name": "stdout",
          "text": [
            "(1146, 7, 6) (1146, 1)\n",
            "(282, 7, 6) (282, 1)\n"
          ]
        }
      ]
    },
    {
      "cell_type": "markdown",
      "metadata": {
        "id": "orRyoSAphduz"
      },
      "source": [
        "**Our Model**"
      ]
    },
    {
      "cell_type": "code",
      "metadata": {
        "id": "pQYG3gs7hjdL"
      },
      "source": [
        "def create_model():\n",
        "  model = Sequential()\n",
        "  model.add(LSTM(128, activation='relu', return_sequences=True))\n",
        "  model.add(LSTM(64, activation='relu', return_sequences=False))\n",
        "  model.add(RepeatVector(7))\n",
        "  model.add(LSTM(64, activation='relu', return_sequences=True))\n",
        "  model.add(LSTM(128, activation='relu', return_sequences=True))\n",
        "\n",
        "  model.add(Bidirectional(LSTM(128, activation='relu',return_sequences=True)))\n",
        "  model.add(LSTM(64, activation='relu', return_sequences=True))\n",
        "  model.add(Dropout(0.25))\n",
        "  model.add(LSTM(64, activation='relu', return_sequences=False))\n",
        "  model.add(Dropout(0.25))\n",
        "\n",
        "  model.add(Dense(10,activation='relu'))\n",
        "  model.add(Dense(1,activation='relu'))\n",
        "  model.compile(loss='mse', optimizer='adam')\n",
        "  model.build(input_shape=(None,X_train.shape[1],X_train.shape[2])) \n",
        "  model.summary()\n",
        "  return model"
      ],
      "execution_count": null,
      "outputs": []
    },
    {
      "cell_type": "code",
      "metadata": {
        "id": "66o0sFtf7CPw"
      },
      "source": [
        "model=create_model()\n",
        "history = model.fit(X_train, y_train, epochs=100, batch_size=128, validation_split=0.3)\n",
        "y_pred = model.predict(X_test)"
      ],
      "execution_count": null,
      "outputs": []
    },
    {
      "cell_type": "markdown",
      "source": [
        "**Evaluation**"
      ],
      "metadata": {
        "id": "fDvNDED7a6eE"
      }
    },
    {
      "cell_type": "code",
      "metadata": {
        "id": "v-fsbMySw8Ra"
      },
      "source": [
        "def MAPE_Value(Y_actual,Y_Predicted):\n",
        "    mape = np.mean(np.abs((Y_actual - Y_Predicted)/Y_actual))*100\n",
        "    return mape"
      ],
      "execution_count": null,
      "outputs": []
    },
    {
      "cell_type": "code",
      "metadata": {
        "id": "Ir8KHh-Q72bS"
      },
      "source": [
        "y_train_inv = cnt_transformer.inverse_transform(y_train.reshape(1,-1))\n",
        "y_test_inv = cnt_transformer.inverse_transform(y_test.reshape(1,-1))\n",
        "y_pred_inv = cnt_transformer.inverse_transform(y_pred.reshape(1,-1))\n",
        "RMSE = math.sqrt(mean_squared_error(y_test_inv, y_pred_inv))\n",
        "MAPE=MAPE_Value(y_test_inv,y_pred_inv)\n",
        "MAE= (mean_absolute_error(y_test_inv, y_pred_inv))"
      ],
      "execution_count": null,
      "outputs": []
    },
    {
      "cell_type": "code",
      "metadata": {
        "colab": {
          "base_uri": "https://localhost:8080/"
        },
        "id": "zByZ1ZqY8CHJ",
        "outputId": "c27e3f94-1dbd-40f3-f5b9-67dddffedbe3"
      },
      "source": [
        "print('MAE is {}'.format(MAE))\n",
        "print('RMSE is {}'.format(RMSE))\n",
        "print('MAPE is {}'.format(MAPE))"
      ],
      "execution_count": null,
      "outputs": [
        {
          "output_type": "stream",
          "name": "stdout",
          "text": [
            "MAE is 256.68505859375\n",
            "RMSE is 355.97960132920537\n",
            "MAPE is 21.2674081325531\n"
          ]
        }
      ]
    },
    {
      "cell_type": "markdown",
      "metadata": {
        "id": "YeZFNb91jxBk"
      },
      "source": [
        "**Plot Validation**"
      ]
    },
    {
      "cell_type": "code",
      "metadata": {
        "id": "DyP8yngCiAMU",
        "colab": {
          "base_uri": "https://localhost:8080/",
          "height": 194
        },
        "outputId": "8f9798df-a445-4947-9cbc-3a9f72638496"
      },
      "source": [
        "plt.figure(figsize=(3.48761,2.5))\n",
        "plt.plot(history.history['loss'] , label='train')\n",
        "plt.plot(history.history['val_loss'], label='validation')\n",
        "plt.xlabel('Epoch')\n",
        "plt.ylabel('Training and Validation Loss')\n",
        "# plt.xticks(rotation=45)\n",
        "plt.tight_layout()\n",
        "plt.legend(['train', 'validation'], loc='upper right')\n",
        "plt.savefig('fig3.pgf')"
      ],
      "execution_count": null,
      "outputs": [
        {
          "output_type": "display_data",
          "data": {
            "image/png": "[encoded data removed]",
            "text/plain": [
              "<Figure size 251.108x180 with 1 Axes>"
            ]
          },
          "metadata": {
            "needs_background": "light"
          }
        }
      ]
    },
    {
      "cell_type": "markdown",
      "metadata": {
        "id": "ioWadWIbh5Rq"
      },
      "source": [
        "**Plot Result**"
      ]
    },
    {
      "cell_type": "code",
      "metadata": {
        "id": "HfxVtwq7jYvh",
        "colab": {
          "base_uri": "https://localhost:8080/",
          "height": 229
        },
        "outputId": "f414a17b-47d8-4102-bdf3-ab9429638330"
      },
      "source": [
        "plt.figure(figsize=(3.48761,3))\n",
        "plt.plot(y_test_inv.flatten(), marker=',',label='true',linewidth=0.8)\n",
        "plt.plot(y_pred_inv.flatten(), marker='|',label='Predicted',linewidth=0.8)\n",
        "plt.xlabel('Time')\n",
        "plt.ylabel(' Enenrgy Consumption')\n",
        "\n",
        "plt.legend(['actual', 'prediction'], loc='upper center', bbox_to_anchor=(0.5, 1.15), ncol=2)\n",
        "plt.tight_layout()\n",
        "plt.show()\n",
        "plt.savefig('fig5.pgf')"
      ],
      "execution_count": null,
      "outputs": [
        {
          "output_type": "display_data",
          "data": {
            "image/png": "[encoded data removed]",
            "text/plain": [
              "<Figure size 251.108x216 with 1 Axes>"
            ]
          },
          "metadata": {
            "needs_background": "light"
          }
        }
      ]
    }
  ]
}